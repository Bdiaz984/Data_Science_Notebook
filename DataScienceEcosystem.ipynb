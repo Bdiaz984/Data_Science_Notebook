{
 "cells": [
  {
   "cell_type": "markdown",
   "id": "26801e61-a928-42df-8320-958498e4733f",
   "metadata": {},
   "source": [
    "# Data Science Tools and Ecosystem"
   ]
  },
  {
   "cell_type": "markdown",
   "id": "6a0488bc-2dda-4a05-87a8-db85c459d79b",
   "metadata": {},
   "source": [
    "## Introduction\n",
    "\n",
    "This notebook provides an overview of the tools and languages commonly used in the field of Data Science."
   ]
  },
  {
   "cell_type": "markdown",
   "id": "d788b01d-975d-4a97-a3ff-3eb7f6bea4e1",
   "metadata": {},
   "source": [
    "Some of the popular languages that Data Scientists use are:\n",
    "\n",
    "1. Python\n",
    "2. R\n",
    "3. SQL\n",
    "4. Julia \n",
    "5. Scala"
   ]
  },
  {
   "cell_type": "markdown",
   "id": "ae95c4d4-3d2c-4735-a777-1e222e7fa4da",
   "metadata": {},
   "source": [
    "Here are a few libraries that Data Scientists use every day to make sense of data:\n",
    "\n",
    "1. Pandas\n",
    "2. NumPy\n",
    "3. Matplotlib\n",
    "4. Scikit-learn\n",
    "5. TensorFlow\n"
   ]
  },
  {
   "cell_type": "markdown",
   "id": "9b6d1384-0fce-4aac-b926-036738bff436",
   "metadata": {},
   "source": [
    "| Data Science Tools         |\n",
    "|----------------------------|\n",
    "| Jupyter Notebook           |\n",
    "| RStudio                    |\n",
    "| Apache Zeppelin            |"
   ]
  },
  {
   "cell_type": "markdown",
   "id": "ac053021-79eb-4522-864f-dc9f3ff5621d",
   "metadata": {},
   "source": [
    "### Here are a few quick math expressions written in Python"
   ]
  },
  {
   "cell_type": "code",
   "execution_count": 32,
   "id": "fe68d47f-b2b1-416a-995f-4d612ec7c447",
   "metadata": {},
   "outputs": [
    {
     "data": {
      "text/plain": [
       "17"
      ]
     },
     "execution_count": 32,
     "metadata": {},
     "output_type": "execute_result"
    }
   ],
   "source": [
    "# This expression shows how to do a quick multiply-then-add in Python\n",
    "(3 * 4) + 5"
   ]
  },
  {
   "cell_type": "code",
   "execution_count": 43,
   "id": "d6217105-08c1-4d55-b868-c564f396ea89",
   "metadata": {},
   "outputs": [
    {
     "data": {
      "text/plain": [
       "3.3333333333333335"
      ]
     },
     "execution_count": 43,
     "metadata": {},
     "output_type": "execute_result"
    }
   ],
   "source": [
    "# This calculation shows the conversion from 200 minutes to hours by diving by 60\n",
    "200 / 60"
   ]
  },
  {
   "cell_type": "markdown",
   "id": "2db4b0b3-2b07-44b2-afa5-a8fbc3e2cf84",
   "metadata": {},
   "source": [
    "**Objectives:**\n",
    "\n",
    "- List popular languages for Data Science  \n",
    "- Identify commonly used libraries in Data Science  \n",
    "- Explore open-source tools and development environments  \n",
    "- Understand basic arithmetic operations in Python  \n",
    "- Learn how to convert units (e.g., minutes to hours) using Python code"
   ]
  },
  {
   "cell_type": "markdown",
   "id": "628b1562-5650-4672-a0b2-9561bea8f1e5",
   "metadata": {},
   "source": [
    "## Author\n",
    "\n",
    "Bernardo Andre Díaz Z.\n"
   ]
  },
  {
   "cell_type": "code",
   "execution_count": null,
   "id": "93e039d4-dabc-49f4-a733-a1ad7849ca64",
   "metadata": {},
   "outputs": [],
   "source": []
  }
 ],
 "metadata": {
  "kernelspec": {
   "display_name": "Python [conda env:base] *",
   "language": "python",
   "name": "conda-base-py"
  },
  "language_info": {
   "codemirror_mode": {
    "name": "ipython",
    "version": 3
   },
   "file_extension": ".py",
   "mimetype": "text/x-python",
   "name": "python",
   "nbconvert_exporter": "python",
   "pygments_lexer": "ipython3",
   "version": "3.12.7"
  }
 },
 "nbformat": 4,
 "nbformat_minor": 5
}
